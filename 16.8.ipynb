from sqlalchemy import create_engine, Table, Column, Integer, String, MetaData

engine = create_engine('sqlite:///books.db')
metadata = MetaData()

book_table = Table(
    'book',
    metadata,
    Column('id', Integer, primary_key=True),
    Column('title', String),
    Column('author', String),
    Column('year_published', Integer),
)

metadata.create_all(engine)
